{
 "cells": [
  {
   "cell_type": "markdown",
   "metadata": {},
   "source": [
    "# Firli Ilhami"
   ]
  },
  {
   "cell_type": "markdown",
   "metadata": {},
   "source": [
    "## Content Based Filtering Algorithm\n",
    "## Objective\n",
    "Content Based Filtering is one of algorithm which has been used for recommendation system. Content Based Filtering will gives us recommendation based on our 'data'. For example, if we take the case is recommendation movie. This algorithm will recommends us film based on films that we have watched and doesn't care about other viewer's rating/opinion.\n",
    "## Import Library and Dataset"
   ]
  },
  {
   "cell_type": "code",
   "execution_count": 453,
   "metadata": {},
   "outputs": [],
   "source": [
    "import numpy as numpy\n",
    "import pandas as pd\n",
    "from recommendation_data import dataset"
   ]
  },
  {
   "cell_type": "code",
   "execution_count": 454,
   "metadata": {},
   "outputs": [],
   "source": [
    "import matplotlib.pyplot as plt\n",
    "import seaborn as sns\n",
    "%matplotlib inline"
   ]
  },
  {
   "cell_type": "code",
   "execution_count": 455,
   "metadata": {},
   "outputs": [],
   "source": [
    "from sklearn.feature_extraction.text import TfidfVectorizer\n",
    "from sklearn.metrics.pairwise import linear_kernel"
   ]
  },
  {
   "cell_type": "markdown",
   "metadata": {},
   "source": [
    "## Dataset\n",
    "In this case, we will use 2 datasets, the first one is dataset about Films and their Description. The description is consist of 4 word:\n",
    "1. First word  : Director\n",
    "2. Second word : Actress\n",
    "3. Third word  : Genre\n",
    "4. Last word   : Country"
   ]
  },
  {
   "cell_type": "code",
   "execution_count": 456,
   "metadata": {},
   "outputs": [
    {
     "data": {
      "text/html": [
       "<div>\n",
       "<style scoped>\n",
       "    .dataframe tbody tr th:only-of-type {\n",
       "        vertical-align: middle;\n",
       "    }\n",
       "\n",
       "    .dataframe tbody tr th {\n",
       "        vertical-align: top;\n",
       "    }\n",
       "\n",
       "    .dataframe thead th {\n",
       "        text-align: right;\n",
       "    }\n",
       "</style>\n",
       "<table border=\"1\" class=\"dataframe\">\n",
       "  <thead>\n",
       "    <tr style=\"text-align: right;\">\n",
       "      <th></th>\n",
       "      <th>Film</th>\n",
       "      <th>Description</th>\n",
       "    </tr>\n",
       "  </thead>\n",
       "  <tbody>\n",
       "    <tr>\n",
       "      <th>0</th>\n",
       "      <td>Ada Apa dengan Cinta 2</td>\n",
       "      <td>Budi Tom Romance ID</td>\n",
       "    </tr>\n",
       "    <tr>\n",
       "      <th>1</th>\n",
       "      <td>Aladdin</td>\n",
       "      <td>Budi Cruise Romance US</td>\n",
       "    </tr>\n",
       "    <tr>\n",
       "      <th>2</th>\n",
       "      <td>Avengers: End Game</td>\n",
       "      <td>Andi Michael Action US</td>\n",
       "    </tr>\n",
       "    <tr>\n",
       "      <th>3</th>\n",
       "      <td>Bumi Manusia</td>\n",
       "      <td>Charles Tom Drama ID</td>\n",
       "    </tr>\n",
       "    <tr>\n",
       "      <th>4</th>\n",
       "      <td>Captain Marvel</td>\n",
       "      <td>Andi Cruise Action US</td>\n",
       "    </tr>\n",
       "  </tbody>\n",
       "</table>\n",
       "</div>"
      ],
      "text/plain": [
       "                     Film             Description\n",
       "0  Ada Apa dengan Cinta 2     Budi Tom Romance ID\n",
       "1                 Aladdin  Budi Cruise Romance US\n",
       "2      Avengers: End Game  Andi Michael Action US\n",
       "3            Bumi Manusia    Charles Tom Drama ID\n",
       "4          Captain Marvel   Andi Cruise Action US"
      ]
     },
     "execution_count": 456,
     "metadata": {},
     "output_type": "execute_result"
    }
   ],
   "source": [
    "df=pd.read_csv('dataset1.csv',delimiter=';')\n",
    "df.head()"
   ]
  },
  {
   "cell_type": "markdown",
   "metadata": {},
   "source": [
    "The second dataset is rating viewer about films. There are 10 films :\n",
    "\n",
    "1. Ada Apa Dengan Cinta 2\n",
    "2. Aladdin\n",
    "3. Avenger: End Game\n",
    "4. Bumi Manusia\n",
    "5. Captain Marvel\n",
    "6. Dilam 1991\n",
    "7. Dua Garis Biru\n",
    "8. Gundala\n",
    "9. Spiderman: Far From Home\n",
    "10. The Lion King\n",
    "\n",
    "The rating score is from 1 to 5. If viewers give 0 score, it means they haven't watched that film and there are 24 respondens.\n",
    "\n",
    "Our dataset is not dataframe, so i will make a dataframe to make it easier to see the data."
   ]
  },
  {
   "cell_type": "code",
   "execution_count": 457,
   "metadata": {},
   "outputs": [
    {
     "data": {
      "text/html": [
       "<div>\n",
       "<style scoped>\n",
       "    .dataframe tbody tr th:only-of-type {\n",
       "        vertical-align: middle;\n",
       "    }\n",
       "\n",
       "    .dataframe tbody tr th {\n",
       "        vertical-align: top;\n",
       "    }\n",
       "\n",
       "    .dataframe thead th {\n",
       "        text-align: right;\n",
       "    }\n",
       "</style>\n",
       "<table border=\"1\" class=\"dataframe\">\n",
       "  <thead>\n",
       "    <tr style=\"text-align: right;\">\n",
       "      <th></th>\n",
       "      <th>ANI</th>\n",
       "      <th>AhokTemanFirli</th>\n",
       "      <th>Damar Teman Firli</th>\n",
       "      <th>Dpv</th>\n",
       "      <th>Febi ganteng gak ada obat</th>\n",
       "      <th>Genjeh</th>\n",
       "      <th>Hania</th>\n",
       "      <th>Indra 1991 SM</th>\n",
       "      <th>Indra Junior</th>\n",
       "      <th>Jawaharal</th>\n",
       "      <th>...</th>\n",
       "      <th>Putrisqiana</th>\n",
       "      <th>Rima</th>\n",
       "      <th>Romantika</th>\n",
       "      <th>Star</th>\n",
       "      <th>Topik Zulkarnain</th>\n",
       "      <th>bunga</th>\n",
       "      <th>faizah</th>\n",
       "      <th>franadek</th>\n",
       "      <th>jul</th>\n",
       "      <th>luck</th>\n",
       "    </tr>\n",
       "  </thead>\n",
       "  <tbody>\n",
       "    <tr>\n",
       "      <th>Ada Apa dengan Cinta 2</th>\n",
       "      <td>4</td>\n",
       "      <td>0</td>\n",
       "      <td>5</td>\n",
       "      <td>5</td>\n",
       "      <td>4</td>\n",
       "      <td>5</td>\n",
       "      <td>3</td>\n",
       "      <td>0</td>\n",
       "      <td>4</td>\n",
       "      <td>2</td>\n",
       "      <td>...</td>\n",
       "      <td>4</td>\n",
       "      <td>5</td>\n",
       "      <td>5</td>\n",
       "      <td>4</td>\n",
       "      <td>0</td>\n",
       "      <td>0</td>\n",
       "      <td>3</td>\n",
       "      <td>4</td>\n",
       "      <td>0</td>\n",
       "      <td>3</td>\n",
       "    </tr>\n",
       "    <tr>\n",
       "      <th>Aladdin</th>\n",
       "      <td>4</td>\n",
       "      <td>0</td>\n",
       "      <td>0</td>\n",
       "      <td>0</td>\n",
       "      <td>5</td>\n",
       "      <td>5</td>\n",
       "      <td>0</td>\n",
       "      <td>0</td>\n",
       "      <td>5</td>\n",
       "      <td>5</td>\n",
       "      <td>...</td>\n",
       "      <td>0</td>\n",
       "      <td>5</td>\n",
       "      <td>0</td>\n",
       "      <td>5</td>\n",
       "      <td>0</td>\n",
       "      <td>5</td>\n",
       "      <td>0</td>\n",
       "      <td>5</td>\n",
       "      <td>3</td>\n",
       "      <td>0</td>\n",
       "    </tr>\n",
       "    <tr>\n",
       "      <th>Avengers: End Game</th>\n",
       "      <td>0</td>\n",
       "      <td>3</td>\n",
       "      <td>5</td>\n",
       "      <td>5</td>\n",
       "      <td>5</td>\n",
       "      <td>5</td>\n",
       "      <td>0</td>\n",
       "      <td>0</td>\n",
       "      <td>5</td>\n",
       "      <td>5</td>\n",
       "      <td>...</td>\n",
       "      <td>5</td>\n",
       "      <td>5</td>\n",
       "      <td>0</td>\n",
       "      <td>5</td>\n",
       "      <td>5</td>\n",
       "      <td>5</td>\n",
       "      <td>5</td>\n",
       "      <td>5</td>\n",
       "      <td>3</td>\n",
       "      <td>4</td>\n",
       "    </tr>\n",
       "    <tr>\n",
       "      <th>Bumi Manusia</th>\n",
       "      <td>5</td>\n",
       "      <td>0</td>\n",
       "      <td>0</td>\n",
       "      <td>0</td>\n",
       "      <td>0</td>\n",
       "      <td>0</td>\n",
       "      <td>4</td>\n",
       "      <td>0</td>\n",
       "      <td>0</td>\n",
       "      <td>0</td>\n",
       "      <td>...</td>\n",
       "      <td>4</td>\n",
       "      <td>4</td>\n",
       "      <td>0</td>\n",
       "      <td>0</td>\n",
       "      <td>0</td>\n",
       "      <td>0</td>\n",
       "      <td>5</td>\n",
       "      <td>5</td>\n",
       "      <td>0</td>\n",
       "      <td>0</td>\n",
       "    </tr>\n",
       "    <tr>\n",
       "      <th>Captain Marvel</th>\n",
       "      <td>4</td>\n",
       "      <td>4</td>\n",
       "      <td>0</td>\n",
       "      <td>5</td>\n",
       "      <td>4</td>\n",
       "      <td>4</td>\n",
       "      <td>0</td>\n",
       "      <td>0</td>\n",
       "      <td>5</td>\n",
       "      <td>4</td>\n",
       "      <td>...</td>\n",
       "      <td>3</td>\n",
       "      <td>5</td>\n",
       "      <td>0</td>\n",
       "      <td>5</td>\n",
       "      <td>2</td>\n",
       "      <td>5</td>\n",
       "      <td>0</td>\n",
       "      <td>4</td>\n",
       "      <td>3</td>\n",
       "      <td>2</td>\n",
       "    </tr>\n",
       "  </tbody>\n",
       "</table>\n",
       "<p>5 rows × 24 columns</p>\n",
       "</div>"
      ],
      "text/plain": [
       "                        ANI  AhokTemanFirli  Damar Teman Firli  Dpv  \\\n",
       "Ada Apa dengan Cinta 2    4               0                  5    5   \n",
       "Aladdin                   4               0                  0    0   \n",
       "Avengers: End Game        0               3                  5    5   \n",
       "Bumi Manusia              5               0                  0    0   \n",
       "Captain Marvel            4               4                  0    5   \n",
       "\n",
       "                        Febi ganteng gak ada obat  Genjeh  Hania  \\\n",
       "Ada Apa dengan Cinta 2                          4       5      3   \n",
       "Aladdin                                         5       5      0   \n",
       "Avengers: End Game                              5       5      0   \n",
       "Bumi Manusia                                    0       0      4   \n",
       "Captain Marvel                                  4       4      0   \n",
       "\n",
       "                        Indra 1991 SM  Indra Junior  Jawaharal  ...   \\\n",
       "Ada Apa dengan Cinta 2              0             4          2  ...    \n",
       "Aladdin                             0             5          5  ...    \n",
       "Avengers: End Game                  0             5          5  ...    \n",
       "Bumi Manusia                        0             0          0  ...    \n",
       "Captain Marvel                      0             5          4  ...    \n",
       "\n",
       "                        Putrisqiana  Rima  Romantika  Star  Topik Zulkarnain  \\\n",
       "Ada Apa dengan Cinta 2            4     5          5     4                 0   \n",
       "Aladdin                           0     5          0     5                 0   \n",
       "Avengers: End Game                5     5          0     5                 5   \n",
       "Bumi Manusia                      4     4          0     0                 0   \n",
       "Captain Marvel                    3     5          0     5                 2   \n",
       "\n",
       "                        bunga  faizah  franadek  jul  luck  \n",
       "Ada Apa dengan Cinta 2      0       3         4    0     3  \n",
       "Aladdin                     5       0         5    3     0  \n",
       "Avengers: End Game          5       5         5    3     4  \n",
       "Bumi Manusia                0       5         5    0     0  \n",
       "Captain Marvel              5       0         4    3     2  \n",
       "\n",
       "[5 rows x 24 columns]"
      ]
     },
     "execution_count": 457,
     "metadata": {},
     "output_type": "execute_result"
    }
   ],
   "source": [
    "df1=pd.DataFrame(dataset)\n",
    "df1.head()"
   ]
  },
  {
   "cell_type": "markdown",
   "metadata": {},
   "source": [
    "## Content_Based Function\n",
    "This function will give us recommendation film which we haven't watched and based on film that we have watched before.\n",
    "measuring similarity between films we will use linear_kernel metric and TfidVectorizer. The result score is from 0 to 1, if score is close to 1 it means that film has similarity with film which we have watched.<br>\n",
    "\n",
    "We have to input 2 parameters:\n",
    "1. person : Name of person\n",
    "2. min_content_score : this is cut off for our result score, if our result score is below than min_content_score this function will not recommend that film. the value is from 0 to 1"
   ]
  },
  {
   "cell_type": "code",
   "execution_count": 468,
   "metadata": {},
   "outputs": [],
   "source": [
    "def content_based(person,min_content_score):\n",
    "    #Figure Properties\n",
    "    plt.figure(figsize=(8,8))\n",
    "    plt.title(\"Cosine_Similarities between film which %s haven't watched and other films\" %(person) )\n",
    "    plt.xlabel('Film not watched')\n",
    "    \n",
    "    \n",
    "    #We want to know films that the person has watched and hasn't watched\n",
    "    k=0\n",
    "    not_watch=[]\n",
    "    watch=[]\n",
    "    for ratings in df1[person]:\n",
    "        if ratings==0:                    #if ratings = 0 , it means he hasn't watched that film\n",
    "            not_watch.append(df1.index[k])\n",
    "            k=k+1\n",
    "        else:\n",
    "            watch.append(df1.index[k])\n",
    "            k=k+1\n",
    "    \n",
    "    #We will analyze the description every films by linear_kernel and TfidfVectorizer\n",
    "    #TfidfVectorizer will analyze how many same word in description film with another film's description\n",
    "    #In this part we will calculate cosine_similarities \n",
    "    tf = TfidfVectorizer(analyzer='word',\n",
    "                             ngram_range=(1, 3),\n",
    "                             min_df=0,\n",
    "                             stop_words='english')\n",
    "    tfidf_matrix=tf.fit_transform(df['Description'])\n",
    "    cosine_similarities = linear_kernel(tfidf_matrix, tfidf_matrix)\n",
    "    \n",
    "    #Make a dataframe from cosine_similarities\n",
    "    list_film=pd.DataFrame(cosine_similarities,index=df['Film'],columns=df['Film'])\n",
    "    \n",
    "    #Select list_film which we haven't watched and the final score is more than min_content_score\n",
    "    #The final score film is mean of cosine_simalirites that film\n",
    "    final=pd.DataFrame(list_film.loc[watch,not_watch].mean().sort_values(ascending=False),columns=['Score'])\n",
    "    final=final[final.Score>=min_content_score]\n",
    "    \n",
    "    \n",
    "    return print ('Recommendation Film :'),print(final), print('\\n'),sns.heatmap(list_film.loc[watch,not_watch],annot=True,cmap='rainbow')"
   ]
  },
  {
   "cell_type": "code",
   "execution_count": 470,
   "metadata": {},
   "outputs": [
    {
     "name": "stdout",
     "output_type": "stream",
     "text": [
      "Recommendation Film :\n",
      "                 Score\n",
      "Film                  \n",
      "Dilan 1991    0.204236\n",
      "Bumi Manusia  0.195649\n",
      "\n",
      "\n"
     ]
    },
    {
     "data": {
      "text/plain": [
       "(None, None, None, <matplotlib.axes._subplots.AxesSubplot at 0x19e59b680f0>)"
      ]
     },
     "execution_count": 470,
     "metadata": {},
     "output_type": "execute_result"
    },
    {
     "data": {
      "image/png": "[encoded data removed]",
      "text/plain": [
       "<matplotlib.figure.Figure at 0x19e59c027f0>"
      ]
     },
     "metadata": {},
     "output_type": "display_data"
    }
   ],
   "source": [
    "content_based('Indra Junior',0.11)"
   ]
  },
  {
   "cell_type": "markdown",
   "metadata": {},
   "source": [
    "## Conclusion"
   ]
  },
  {
   "cell_type": "markdown",
   "metadata": {},
   "source": [
    "We can see that there are 3 films which Indra Junior has not watched. There are Bumi Manusia, Dilan 1991 and Gundala. <br>\n",
    "But our content_based funtion give him recommendation film only Dilan 1991 and Bumi Manusia. It because Gundala's score is below than min_content_score or below than 0.11\n",
    "\n",
    "I have said before, if the score is close to 1 it means that film has similarity about genre, director, actress and country but in my opinion this result score is small (below 0.5). It means Bumi Dilan 1991 and Bumi Manusia is not good recommendation based on films that Indra Junior has watched."
   ]
  }
 ],
 "metadata": {
  "kernelspec": {
   "display_name": "Python 3",
   "language": "python",
   "name": "python3"
  },
  "language_info": {
   "codemirror_mode": {
    "name": "ipython",
    "version": 3
   },
   "file_extension": ".py",
   "mimetype": "text/x-python",
   "name": "python",
   "nbconvert_exporter": "python",
   "pygments_lexer": "ipython3",
   "version": "3.6.4"
  }
 },
 "nbformat": 4,
 "nbformat_minor": 2
}
