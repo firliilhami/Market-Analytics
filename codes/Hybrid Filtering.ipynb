{
 "cells": [
  {
   "cell_type": "markdown",
   "metadata": {},
   "source": [
    "# Firli Ilhami"
   ]
  },
  {
   "cell_type": "markdown",
   "metadata": {},
   "source": [
    "## Hybrid Filtering Algorithm\n",
    "## Objective\n",
    "Hybrid filtering is combination of Collaborative and Content Based Filtering Algorithm. This algorithm has 2 types :\n",
    "* Collaborative + Content Based\n",
    "* Content Based + Collaborative\n",
    "\n",
    "The difference is about order of algorithm.\n",
    "### Note : I recommend to read content based and collaborative filtering algorithm first\n",
    "Because in this case (Hybrid Filtering), i will modify some function and don't give full explanation about the function.\n",
    "You can see full explanation on other code (Collaborative and Content Based Filtering Algorithm)"
   ]
  },
  {
   "cell_type": "markdown",
   "metadata": {},
   "source": [
    "## Import library and dataset"
   ]
  },
  {
   "cell_type": "code",
   "execution_count": 4,
   "metadata": {},
   "outputs": [],
   "source": [
    "from recommendation_data import dataset\n",
    "from math import sqrt\n",
    "import pandas as pd\n",
    "import numpy as np"
   ]
  },
  {
   "cell_type": "code",
   "execution_count": 5,
   "metadata": {},
   "outputs": [],
   "source": [
    "import matplotlib.pyplot as plt\n",
    "import seaborn as sns\n",
    "%matplotlib inline"
   ]
  },
  {
   "cell_type": "code",
   "execution_count": 6,
   "metadata": {},
   "outputs": [],
   "source": [
    "from sklearn.feature_extraction.text import TfidfVectorizer\n",
    "from sklearn.metrics.pairwise import linear_kernel"
   ]
  },
  {
   "cell_type": "markdown",
   "metadata": {},
   "source": [
    "## Dataset\n",
    "In this case, we will use 2 datasets, the first one is dataset about Films and their Description. The description is consist of 4 word:\n",
    "1. First word  : Director\n",
    "2. Second word : Actress\n",
    "3. Third word  : Genre\n",
    "4. Last word   : Country"
   ]
  },
  {
   "cell_type": "code",
   "execution_count": 7,
   "metadata": {},
   "outputs": [
    {
     "data": {
      "text/html": [
       "<div>\n",
       "<style scoped>\n",
       "    .dataframe tbody tr th:only-of-type {\n",
       "        vertical-align: middle;\n",
       "    }\n",
       "\n",
       "    .dataframe tbody tr th {\n",
       "        vertical-align: top;\n",
       "    }\n",
       "\n",
       "    .dataframe thead th {\n",
       "        text-align: right;\n",
       "    }\n",
       "</style>\n",
       "<table border=\"1\" class=\"dataframe\">\n",
       "  <thead>\n",
       "    <tr style=\"text-align: right;\">\n",
       "      <th></th>\n",
       "      <th>Film</th>\n",
       "      <th>Description</th>\n",
       "    </tr>\n",
       "  </thead>\n",
       "  <tbody>\n",
       "    <tr>\n",
       "      <th>0</th>\n",
       "      <td>Ada Apa dengan Cinta 2</td>\n",
       "      <td>Budi Tom Romance ID</td>\n",
       "    </tr>\n",
       "    <tr>\n",
       "      <th>1</th>\n",
       "      <td>Aladdin</td>\n",
       "      <td>Budi Cruise Romance US</td>\n",
       "    </tr>\n",
       "    <tr>\n",
       "      <th>2</th>\n",
       "      <td>Avengers: End Game</td>\n",
       "      <td>Andi Michael Action US</td>\n",
       "    </tr>\n",
       "    <tr>\n",
       "      <th>3</th>\n",
       "      <td>Bumi Manusia</td>\n",
       "      <td>Charles Tom Drama ID</td>\n",
       "    </tr>\n",
       "    <tr>\n",
       "      <th>4</th>\n",
       "      <td>Captain Marvel</td>\n",
       "      <td>Andi Cruise Action US</td>\n",
       "    </tr>\n",
       "  </tbody>\n",
       "</table>\n",
       "</div>"
      ],
      "text/plain": [
       "                     Film             Description\n",
       "0  Ada Apa dengan Cinta 2     Budi Tom Romance ID\n",
       "1                 Aladdin  Budi Cruise Romance US\n",
       "2      Avengers: End Game  Andi Michael Action US\n",
       "3            Bumi Manusia    Charles Tom Drama ID\n",
       "4          Captain Marvel   Andi Cruise Action US"
      ]
     },
     "execution_count": 7,
     "metadata": {},
     "output_type": "execute_result"
    }
   ],
   "source": [
    "df=pd.read_csv('dataset1.csv',delimiter=';')\n",
    "df.head()"
   ]
  },
  {
   "cell_type": "markdown",
   "metadata": {},
   "source": [
    "The second dataset is rating viewer about films. There are 10 films :\n",
    "\n",
    "1. Ada Apa Dengan Cinta 2\n",
    "2. Aladdin\n",
    "3. Avenger: End Game\n",
    "4. Bumi Manusia\n",
    "5. Captain Marvel\n",
    "6. Dilam 1991\n",
    "7. Dua Garis Biru\n",
    "8. Gundala\n",
    "9. Spiderman: Far From Home\n",
    "10. The Lion King\n",
    "\n",
    "The rating score is from 1 to 5. If viewers give 0 score, it means they haven't watched that film and there are 24 respondens.\n",
    "\n",
    "Our dataset is not dataframe, so i will make a dataframe to make it easier to see the data."
   ]
  },
  {
   "cell_type": "code",
   "execution_count": 8,
   "metadata": {},
   "outputs": [
    {
     "data": {
      "text/html": [
       "<div>\n",
       "<style scoped>\n",
       "    .dataframe tbody tr th:only-of-type {\n",
       "        vertical-align: middle;\n",
       "    }\n",
       "\n",
       "    .dataframe tbody tr th {\n",
       "        vertical-align: top;\n",
       "    }\n",
       "\n",
       "    .dataframe thead th {\n",
       "        text-align: right;\n",
       "    }\n",
       "</style>\n",
       "<table border=\"1\" class=\"dataframe\">\n",
       "  <thead>\n",
       "    <tr style=\"text-align: right;\">\n",
       "      <th></th>\n",
       "      <th>ANI</th>\n",
       "      <th>AhokTemanFirli</th>\n",
       "      <th>Damar Teman Firli</th>\n",
       "      <th>Dpv</th>\n",
       "      <th>Febi ganteng gak ada obat</th>\n",
       "      <th>Genjeh</th>\n",
       "      <th>Hania</th>\n",
       "      <th>Indra 1991 SM</th>\n",
       "      <th>Indra Junior</th>\n",
       "      <th>Jawaharal</th>\n",
       "      <th>...</th>\n",
       "      <th>Putrisqiana</th>\n",
       "      <th>Rima</th>\n",
       "      <th>Romantika</th>\n",
       "      <th>Star</th>\n",
       "      <th>Topik Zulkarnain</th>\n",
       "      <th>bunga</th>\n",
       "      <th>faizah</th>\n",
       "      <th>franadek</th>\n",
       "      <th>jul</th>\n",
       "      <th>luck</th>\n",
       "    </tr>\n",
       "  </thead>\n",
       "  <tbody>\n",
       "    <tr>\n",
       "      <th>Ada Apa dengan Cinta 2</th>\n",
       "      <td>4</td>\n",
       "      <td>0</td>\n",
       "      <td>5</td>\n",
       "      <td>5</td>\n",
       "      <td>4</td>\n",
       "      <td>5</td>\n",
       "      <td>3</td>\n",
       "      <td>0</td>\n",
       "      <td>4</td>\n",
       "      <td>2</td>\n",
       "      <td>...</td>\n",
       "      <td>4</td>\n",
       "      <td>5</td>\n",
       "      <td>5</td>\n",
       "      <td>4</td>\n",
       "      <td>0</td>\n",
       "      <td>0</td>\n",
       "      <td>3</td>\n",
       "      <td>4</td>\n",
       "      <td>0</td>\n",
       "      <td>3</td>\n",
       "    </tr>\n",
       "    <tr>\n",
       "      <th>Aladdin</th>\n",
       "      <td>4</td>\n",
       "      <td>0</td>\n",
       "      <td>0</td>\n",
       "      <td>0</td>\n",
       "      <td>5</td>\n",
       "      <td>5</td>\n",
       "      <td>0</td>\n",
       "      <td>0</td>\n",
       "      <td>5</td>\n",
       "      <td>5</td>\n",
       "      <td>...</td>\n",
       "      <td>0</td>\n",
       "      <td>5</td>\n",
       "      <td>0</td>\n",
       "      <td>5</td>\n",
       "      <td>0</td>\n",
       "      <td>5</td>\n",
       "      <td>0</td>\n",
       "      <td>5</td>\n",
       "      <td>3</td>\n",
       "      <td>0</td>\n",
       "    </tr>\n",
       "    <tr>\n",
       "      <th>Avengers: End Game</th>\n",
       "      <td>0</td>\n",
       "      <td>3</td>\n",
       "      <td>5</td>\n",
       "      <td>5</td>\n",
       "      <td>5</td>\n",
       "      <td>5</td>\n",
       "      <td>0</td>\n",
       "      <td>0</td>\n",
       "      <td>5</td>\n",
       "      <td>5</td>\n",
       "      <td>...</td>\n",
       "      <td>5</td>\n",
       "      <td>5</td>\n",
       "      <td>0</td>\n",
       "      <td>5</td>\n",
       "      <td>5</td>\n",
       "      <td>5</td>\n",
       "      <td>5</td>\n",
       "      <td>5</td>\n",
       "      <td>3</td>\n",
       "      <td>4</td>\n",
       "    </tr>\n",
       "    <tr>\n",
       "      <th>Bumi Manusia</th>\n",
       "      <td>5</td>\n",
       "      <td>0</td>\n",
       "      <td>0</td>\n",
       "      <td>0</td>\n",
       "      <td>0</td>\n",
       "      <td>0</td>\n",
       "      <td>4</td>\n",
       "      <td>0</td>\n",
       "      <td>0</td>\n",
       "      <td>0</td>\n",
       "      <td>...</td>\n",
       "      <td>4</td>\n",
       "      <td>4</td>\n",
       "      <td>0</td>\n",
       "      <td>0</td>\n",
       "      <td>0</td>\n",
       "      <td>0</td>\n",
       "      <td>5</td>\n",
       "      <td>5</td>\n",
       "      <td>0</td>\n",
       "      <td>0</td>\n",
       "    </tr>\n",
       "    <tr>\n",
       "      <th>Captain Marvel</th>\n",
       "      <td>4</td>\n",
       "      <td>4</td>\n",
       "      <td>0</td>\n",
       "      <td>5</td>\n",
       "      <td>4</td>\n",
       "      <td>4</td>\n",
       "      <td>0</td>\n",
       "      <td>0</td>\n",
       "      <td>5</td>\n",
       "      <td>4</td>\n",
       "      <td>...</td>\n",
       "      <td>3</td>\n",
       "      <td>5</td>\n",
       "      <td>0</td>\n",
       "      <td>5</td>\n",
       "      <td>2</td>\n",
       "      <td>5</td>\n",
       "      <td>0</td>\n",
       "      <td>4</td>\n",
       "      <td>3</td>\n",
       "      <td>2</td>\n",
       "    </tr>\n",
       "  </tbody>\n",
       "</table>\n",
       "<p>5 rows × 24 columns</p>\n",
       "</div>"
      ],
      "text/plain": [
       "                        ANI  AhokTemanFirli  Damar Teman Firli  Dpv  \\\n",
       "Ada Apa dengan Cinta 2    4               0                  5    5   \n",
       "Aladdin                   4               0                  0    0   \n",
       "Avengers: End Game        0               3                  5    5   \n",
       "Bumi Manusia              5               0                  0    0   \n",
       "Captain Marvel            4               4                  0    5   \n",
       "\n",
       "                        Febi ganteng gak ada obat  Genjeh  Hania  \\\n",
       "Ada Apa dengan Cinta 2                          4       5      3   \n",
       "Aladdin                                         5       5      0   \n",
       "Avengers: End Game                              5       5      0   \n",
       "Bumi Manusia                                    0       0      4   \n",
       "Captain Marvel                                  4       4      0   \n",
       "\n",
       "                        Indra 1991 SM  Indra Junior  Jawaharal  ...   \\\n",
       "Ada Apa dengan Cinta 2              0             4          2  ...    \n",
       "Aladdin                             0             5          5  ...    \n",
       "Avengers: End Game                  0             5          5  ...    \n",
       "Bumi Manusia                        0             0          0  ...    \n",
       "Captain Marvel                      0             5          4  ...    \n",
       "\n",
       "                        Putrisqiana  Rima  Romantika  Star  Topik Zulkarnain  \\\n",
       "Ada Apa dengan Cinta 2            4     5          5     4                 0   \n",
       "Aladdin                           0     5          0     5                 0   \n",
       "Avengers: End Game                5     5          0     5                 5   \n",
       "Bumi Manusia                      4     4          0     0                 0   \n",
       "Captain Marvel                    3     5          0     5                 2   \n",
       "\n",
       "                        bunga  faizah  franadek  jul  luck  \n",
       "Ada Apa dengan Cinta 2      0       3         4    0     3  \n",
       "Aladdin                     5       0         5    3     0  \n",
       "Avengers: End Game          5       5         5    3     4  \n",
       "Bumi Manusia                0       5         5    0     0  \n",
       "Captain Marvel              5       0         4    3     2  \n",
       "\n",
       "[5 rows x 24 columns]"
      ]
     },
     "execution_count": 8,
     "metadata": {},
     "output_type": "execute_result"
    }
   ],
   "source": [
    "df1=pd.DataFrame(dataset)\n",
    "df1.head()"
   ]
  },
  {
   "cell_type": "markdown",
   "metadata": {},
   "source": [
    "## Hybrid_Filtering Function (Content Based + Collaborative)\n",
    "In this Hybrid Filltering method, <b>i will use content based algorithm first </b> and then collaborative filtering.\n",
    "So content based algorithm will give the recommendation film is based on film which viewer has watched before and then the collaborative filtering algorithm will give us the recommendation film based on other viewer's rating but the recommendation films have been filtered by content based algorithm."
   ]
  },
  {
   "cell_type": "markdown",
   "metadata": {},
   "source": [
    "### Content_Based Function (Modify)\n",
    "I will change the return from this function because we just need the result of list film which recommend by this algorithm.\n",
    "\n",
    "We have to input 2 parameters:\n",
    "1. person : Name of person\n",
    "2. min_content_score : this is cut off for our result score, if our result score is below than min_content_score this function will not recommend that film. the value is from 0 to 1."
   ]
  },
  {
   "cell_type": "code",
   "execution_count": 9,
   "metadata": {},
   "outputs": [],
   "source": [
    "def content_based(person,min_content_score):\n",
    "        \n",
    "    #We want to know films that the person has not watched before\n",
    "    k=0\n",
    "    not_watch=[]\n",
    "    watch=[]\n",
    "    for ratings in df1[person]:\n",
    "        if ratings==0:                    #if ratings = 0 , it means he hasn't watched that film\n",
    "            not_watch.append(df1.index[k])\n",
    "            k=k+1\n",
    "        else:\n",
    "            watch.append(df1.index[k])\n",
    "            k=k+1\n",
    "    \n",
    "    #We will analyze the description every films by linear_kernel and TfidfVectorizer\n",
    "    #TfidfVectorizer will analyze how many same word in description film with another film's description\n",
    "    #In this part we will calculate cosine_similarities \n",
    "    tf = TfidfVectorizer(analyzer='word',\n",
    "                             ngram_range=(1, 3),\n",
    "                             min_df=0,\n",
    "                             stop_words='english')\n",
    "    tfidf_matrix=tf.fit_transform(df['Description'])\n",
    "    cosine_similarities = linear_kernel(tfidf_matrix, tfidf_matrix)\n",
    "    \n",
    "    #Make a dataframe from cosine_similarities\n",
    "    list_film=pd.DataFrame(cosine_similarities,index=df['Film'],columns=df['Film'])\n",
    "    \n",
    "    #Select list_film which we haven't watched and the final score is more than min_content_score\n",
    "    #The final score film is mean of cosine_simalirites that film\n",
    "    final=pd.DataFrame(list_film.loc[watch,not_watch].mean().sort_values(ascending=False),columns=['Score'])\n",
    "    final=final[final.Score>=min_content_score]\n",
    "    \n",
    "    #Modify\n",
    "    #We just need list of film recommendation so we just need the index\n",
    "    indeks=final.index\n",
    "    \n",
    "    return indeks"
   ]
  },
  {
   "cell_type": "markdown",
   "metadata": {},
   "source": [
    "### Person_Correlation Function\n",
    "We need this function to calculate correlation between viewers and it will be added in user_recommendation function (collaborative filtering).\n",
    "\n",
    "If the correlation score is close to 1 , it means that they have same opinion about films that they have watched and vice versa.\n",
    "In this function we have to input 2 parameters:\n",
    "1. person1 : name of person 1\n",
    "2. person2 : name of person 2"
   ]
  },
  {
   "cell_type": "code",
   "execution_count": 10,
   "metadata": {},
   "outputs": [],
   "source": [
    "def person_correlation(person1, person2):\n",
    "\n",
    "   # To get both rated items\n",
    "    both_rated = {}\n",
    "    for item in dataset[person1]:\n",
    "        if item in dataset[person2]:\n",
    "            both_rated[item] = 1\n",
    "\n",
    "    number_of_ratings = len(both_rated)\n",
    "\n",
    "    # Checking for ratings in common\n",
    "    if number_of_ratings == 0:\n",
    "        return 0\n",
    "\n",
    "    # Add up all the preferences of each user\n",
    "    person1_preferences_sum = sum([dataset[person1][item] for item in both_rated])\n",
    "    person2_preferences_sum = sum([dataset[person2][item] for item in both_rated])\n",
    "\n",
    "    # Sum up the squares of preferences of each user\n",
    "    person1_square_preferences_sum = sum([pow(dataset[person1][item],2) for item in both_rated])\n",
    "    person2_square_preferences_sum = sum([pow(dataset[person2][item],2) for item in both_rated])\n",
    "\n",
    "    # Sum up the product value of both preferences for each item\n",
    "    product_sum_of_both_users = sum([dataset[person1][item] * dataset[person2][item] for item in both_rated])\n",
    "\n",
    "    # Calculate the pearson score\n",
    "    numerator_value = product_sum_of_both_users - (person1_preferences_sum*person2_preferences_sum/number_of_ratings)\n",
    "    denominator_value = sqrt((person1_square_preferences_sum - pow(person1_preferences_sum,2)/number_of_ratings) * (person2_square_preferences_sum -pow(person2_preferences_sum,2)/number_of_ratings))\n",
    "\n",
    "    if denominator_value == 0:\n",
    "        return 0\n",
    "    else:\n",
    "        r = numerator_value / denominator_value\n",
    "        return r"
   ]
  },
  {
   "cell_type": "markdown",
   "metadata": {},
   "source": [
    "### User_Recommendations Function (Modify)  ( Collaborative Filtering)\n",
    "In this function i add 1 parameter. It is min_content_score because i add content_based function to this function. I need information about list film which recommend by content_based function. I modify how we select the recommendation film at the last code.\n",
    "\n",
    "In this function we have to input 2 parameters:\n",
    "1. person : name of person \n",
    "2. min_content_score : this is cut off for our result score, if our result score is below than min_content_score this function will not recommend that film. the value is from 0 to 1"
   ]
  },
  {
   "cell_type": "code",
   "execution_count": 11,
   "metadata": {},
   "outputs": [],
   "source": [
    "def user_recommendations(person,min_content_score):\n",
    "\n",
    "    # Gets recommendations for a person by using a weighted average of every other user's rankings\n",
    "    totals = {}\n",
    "    simSums = {}\n",
    "    rankings_list =[]\n",
    "    for other in dataset:\n",
    "        # don't compare me to myself\n",
    "        if other == person:\n",
    "            continue\n",
    "        sim = person_correlation(person,other)\n",
    "        #print \">>>>>>>\",sim\n",
    "\n",
    "        # ignore scores of zero or lower\n",
    "        if sim <=0: \n",
    "            continue\n",
    "        for item in dataset[other]:\n",
    "\n",
    "            # only score movies i haven't seen yet\n",
    "            if item not in dataset[person] or dataset[person][item] == 0:\n",
    "\n",
    "            # Similrity * score\n",
    "                totals.setdefault(item,0)\n",
    "                totals[item] += dataset[other][item]* sim\n",
    "                # sum of similarities\n",
    "                simSums.setdefault(item,0)\n",
    "                simSums[item]+= sim\n",
    "\n",
    "    # Create the normalized list\n",
    "    rankings = [(total/simSums[item],item) for item,total in totals.items()]\n",
    "    rankings.sort()\n",
    "    rankings.reverse()\n",
    "    \n",
    "    # returns the recommended items\n",
    "    recommendataions_list = [recommend_item for score,recommend_item in rankings]\n",
    "    \n",
    "    # recommendataions_list is the final result if we just use collaborative filtering (user_recommendation function)\n",
    "    # but we want filter the final result by content_based filtering\n",
    "   \n",
    "    #Modify this part\n",
    "    # I will select the recommendation film which has been filtered by content_based function\n",
    "    new_rankings=[]\n",
    "    for film in rankings:\n",
    "        if film[1] in content_based(person,min_content_score):  #content_based funtion will return list of films that have been \n",
    "            new_rankings.append(film)                              #filtered by content_based fitlering\n",
    "            \n",
    "    # returns the recommended items\n",
    "    recommendataions_list = [recommend_item for score,recommend_item in new_rankings]\n",
    "    final=pd.DataFrame(recommendataions_list,columns=['Film'],index=list(range(1,len(recommendataions_list)+1)))\n",
    "            \n",
    "    return print('Top Recommendation Film Based on Hybrid Filtering :'),print(final)"
   ]
  },
  {
   "cell_type": "code",
   "execution_count": 12,
   "metadata": {},
   "outputs": [],
   "source": [
    "def hybrid_filtering(person,min_content_score):\n",
    "    content_based(person,min_content_score)\n",
    "    return user_recommendations(person,min_content_score)\n",
    "    "
   ]
  },
  {
   "cell_type": "markdown",
   "metadata": {},
   "source": [
    "## Result\n",
    "### min_content_score = 0"
   ]
  },
  {
   "cell_type": "code",
   "execution_count": 13,
   "metadata": {},
   "outputs": [
    {
     "name": "stdout",
     "output_type": "stream",
     "text": [
      "Top Recommendation Film Based on Hybrid Filtering :\n",
      "           Film\n",
      "1       Gundala\n",
      "2    Dilan 1991\n",
      "3  Bumi Manusia\n"
     ]
    },
    {
     "data": {
      "text/plain": [
       "(None, None)"
      ]
     },
     "execution_count": 13,
     "metadata": {},
     "output_type": "execute_result"
    }
   ],
   "source": [
    "hybrid_filtering('Indra Junior',0)"
   ]
  },
  {
   "cell_type": "markdown",
   "metadata": {},
   "source": [
    "### min_content_score = 0.11"
   ]
  },
  {
   "cell_type": "code",
   "execution_count": 14,
   "metadata": {},
   "outputs": [
    {
     "name": "stdout",
     "output_type": "stream",
     "text": [
      "Top Recommendation Film Based on Hybrid Filtering :\n",
      "           Film\n",
      "1    Dilan 1991\n",
      "2  Bumi Manusia\n"
     ]
    },
    {
     "data": {
      "text/plain": [
       "(None, None)"
      ]
     },
     "execution_count": 14,
     "metadata": {},
     "output_type": "execute_result"
    }
   ],
   "source": [
    "hybrid_filtering('Indra Junior',0.11)"
   ]
  },
  {
   "cell_type": "markdown",
   "metadata": {},
   "source": [
    "### min_content_score = 0.5"
   ]
  },
  {
   "cell_type": "code",
   "execution_count": 15,
   "metadata": {},
   "outputs": [
    {
     "name": "stdout",
     "output_type": "stream",
     "text": [
      "Top Recommendation Film Based on Hybrid Filtering :\n",
      "Empty DataFrame\n",
      "Columns: [Film]\n",
      "Index: []\n"
     ]
    },
    {
     "data": {
      "text/plain": [
       "(None, None)"
      ]
     },
     "execution_count": 15,
     "metadata": {},
     "output_type": "execute_result"
    }
   ],
   "source": [
    "hybrid_filtering('Indra Junior',0.5)"
   ]
  },
  {
   "cell_type": "markdown",
   "metadata": {},
   "source": [
    "### content_based filtering without modification"
   ]
  },
  {
   "cell_type": "code",
   "execution_count": 16,
   "metadata": {},
   "outputs": [],
   "source": [
    "def content_based_without_modification(person,min_content_score):\n",
    "\n",
    "    #We want to know films that the person has not watched before\n",
    "    k=0\n",
    "    not_watch=[]\n",
    "    watch=[]\n",
    "    for ratings in df1[person]:\n",
    "        if ratings==0:                    #if ratings = 0 , it means he hasn't watched that film\n",
    "            not_watch.append(df1.index[k])\n",
    "            k=k+1\n",
    "        else:\n",
    "            watch.append(df1.index[k])\n",
    "            k=k+1\n",
    "    \n",
    "    #We will analyze the description every films by linear_kernel and TfidfVectorizer\n",
    "    #TfidfVectorizer will analyze how many same word in description film with another film's description\n",
    "    #In this part we will calculate cosine_similarities \n",
    "    tf = TfidfVectorizer(analyzer='word',\n",
    "                             ngram_range=(1, 3),\n",
    "                             min_df=0,\n",
    "                             stop_words='english')\n",
    "    tfidf_matrix=tf.fit_transform(df['Description'])\n",
    "    cosine_similarities = linear_kernel(tfidf_matrix, tfidf_matrix)\n",
    "    \n",
    "    #Make a dataframe from cosine_similarities\n",
    "    list_film=pd.DataFrame(cosine_similarities,index=df['Film'],columns=df['Film'])\n",
    "    \n",
    "    #Select list_film which we haven't watched and the final score is more than min_content_score\n",
    "    #The final score film is mean of cosine_simalirites that film\n",
    "    final=pd.DataFrame(list_film.loc[watch,not_watch].mean().sort_values(ascending=False),columns=['Score'])\n",
    "    final=final[final.Score>=min_content_score]\n",
    "    \n",
    "    \n",
    "    return print ('Recommendation Film Based on Content Based Filtering :'),print(final)"
   ]
  },
  {
   "cell_type": "code",
   "execution_count": 17,
   "metadata": {},
   "outputs": [
    {
     "name": "stdout",
     "output_type": "stream",
     "text": [
      "Recommendation Film Based on Content Based Filtering :\n",
      "                 Score\n",
      "Film                  \n",
      "Dilan 1991    0.204236\n",
      "Bumi Manusia  0.195649\n",
      "Gundala       0.076412\n"
     ]
    },
    {
     "data": {
      "text/plain": [
       "(None, None)"
      ]
     },
     "execution_count": 17,
     "metadata": {},
     "output_type": "execute_result"
    }
   ],
   "source": [
    "content_based_without_modification('Indra Junior',0)"
   ]
  },
  {
   "cell_type": "markdown",
   "metadata": {},
   "source": [
    "###  user recommendation without modification (collaborative filtering)"
   ]
  },
  {
   "cell_type": "code",
   "execution_count": 22,
   "metadata": {},
   "outputs": [],
   "source": [
    "def user_recommendations_without_modification(person):\n",
    "\n",
    "    # Gets recommendations for a person by using a weighted average of every other user's rankings\n",
    "    totals = {}\n",
    "    simSums = {}\n",
    "    rankings_list =[]\n",
    "    for other in dataset:\n",
    "        # don't compare me to myself\n",
    "        if other == person:\n",
    "            continue\n",
    "        sim = person_correlation(person,other)\n",
    "        #print \">>>>>>>\",sim\n",
    "\n",
    "        # ignore scores of zero or lower\n",
    "        if sim <=0: \n",
    "            continue\n",
    "        for item in dataset[other]:\n",
    "\n",
    "            # only score movies i haven't seen yet\n",
    "            if item not in dataset[person] or dataset[person][item] == 0:\n",
    "\n",
    "            # Similrity * score\n",
    "                totals.setdefault(item,0)\n",
    "                totals[item] += dataset[other][item]* sim\n",
    "                # sum of similarities\n",
    "                simSums.setdefault(item,0)\n",
    "                simSums[item]+= sim\n",
    "\n",
    "        # Create the normalized list\n",
    "\n",
    "    rankings = [(total/simSums[item],item) for item,total in totals.items()]\n",
    "    rankings.sort()\n",
    "    rankings.reverse()\n",
    "    # returns the recommended items & score\n",
    "    recommendataions_list = [recommend_item for score,recommend_item in rankings]\n",
    "    score_list=[score for score,recommend_item in rankings]\n",
    "    final=pd.DataFrame(recommendataions_list,columns=['Film'],index=list(range(1,len(recommendataions_list)+1)))\n",
    "    return print('Top Recommendation Film Based on User Recommendations (collaborative filtering) : '),print(final)"
   ]
  },
  {
   "cell_type": "code",
   "execution_count": 23,
   "metadata": {},
   "outputs": [
    {
     "name": "stdout",
     "output_type": "stream",
     "text": [
      "Top Recommendation Film Based on User Recommendations (collaborative filtering) : \n",
      "           Film\n",
      "1       Gundala\n",
      "2    Dilan 1991\n",
      "3  Bumi Manusia\n"
     ]
    },
    {
     "data": {
      "text/plain": [
       "(None, None)"
      ]
     },
     "execution_count": 23,
     "metadata": {},
     "output_type": "execute_result"
    }
   ],
   "source": [
    "user_recommendations_without_modification('Indra Junior')"
   ]
  },
  {
   "cell_type": "markdown",
   "metadata": {},
   "source": [
    "## Conclusion\n",
    "As reminder : Content Base Score is from 0 to 1. If the score is close to 1 , it means that film is more recommended."
   ]
  },
  {
   "cell_type": "markdown",
   "metadata": {},
   "source": [
    "* If we set min_content_score = 0 (no cut off value), hybrid filtering will give us same result with collaborative filtering because content based filtering doesn't filter any films (all of films's content based score are above 0.1)\n",
    "* If we set min_content_score = 0.11, hybrid filtering will only give us Dilan 1991 and Bumi Manusia as recommendation films even though Gundala is the best recommendation film if we use collaborative filtering. It because content based function has filtered the recommendation film before (the gundala's content bases score is below 0.11)\n",
    "* If we set min_content_score = 0.5, hybrid filtering gives no recommendation film. It because all of films content based score is below 0.5\n",
    "* So based on hybrid filtering algorithm, Gundala, Dilan 1991 and Bumi Manusia are not recommended for Indra Junior if we set min_content_score is 0.5 (cut off score)."
   ]
  },
  {
   "cell_type": "code",
   "execution_count": null,
   "metadata": {},
   "outputs": [],
   "source": []
  }
 ],
 "metadata": {
  "kernelspec": {
   "display_name": "Python 3",
   "language": "python",
   "name": "python3"
  },
  "language_info": {
   "codemirror_mode": {
    "name": "ipython",
    "version": 3
   },
   "file_extension": ".py",
   "mimetype": "text/x-python",
   "name": "python",
   "nbconvert_exporter": "python",
   "pygments_lexer": "ipython3",
   "version": "3.6.4"
  }
 },
 "nbformat": 4,
 "nbformat_minor": 2
}
